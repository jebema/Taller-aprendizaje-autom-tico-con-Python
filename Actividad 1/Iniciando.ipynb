{
 "cells": [
  {
   "cell_type": "markdown",
   "metadata": {},
   "source": [
    "# Iniciando\n",
    "Curso: Aplicaciones del aprendizaje automático con Python <br>\n",
    "Actividad 1: Iniciando con Python.\n",
    "\n",
    "Objetivos:\n",
    "1. Familiarizarse con el lenguaje de programación Python.\n",
    "2. Hacer llamadas a funciones.\n",
    "3. Conocer la estructura de datos listas\n",
    "4. Conocer la biblioteca numpy.\n",
    "5. Conocer la biblioteca matplotlib.\n",
    "\n",
    "Dra. Jessica Beltrán Márquez <br>\n",
    "www.jessicabeltran.com.mx"
   ]
  },
  {
   "cell_type": "markdown",
   "metadata": {},
   "source": [
    "A continuación asignaremos valores a dos variables y después las sumaremos. Python es sensible a mayúsculas y minúsculas, por lo que la variable \"a\" es distinta que \"A\"."
   ]
  },
  {
   "cell_type": "code",
   "execution_count": null,
   "metadata": {},
   "outputs": [],
   "source": [
    "a = 90\n",
    "b = 7\n",
    "A = 25\n",
    "\n",
    "c = a + b\n",
    "d = A + b\n",
    "\n",
    "print(\"a + b = \", c)\n",
    "print(\"A + b = \", d)\n"
   ]
  },
  {
   "cell_type": "markdown",
   "metadata": {
    "collapsed": true
   },
   "source": [
    "<span style=\"color:magenta\">__Pruébalo__:</span> Cambia los valores de las siguientes variables y prueba los distintos resultados."
   ]
  },
  {
   "cell_type": "code",
   "execution_count": null,
   "metadata": {},
   "outputs": [],
   "source": [
    "f =  ## <-- Escribe un número para asignarle un valor a f\n",
    "g =  ## <-- Escribe un número para asignarle un valor a g\n",
    "x = f+g*g\n",
    "print(\"f + g * g = \",x)"
   ]
  },
  {
   "cell_type": "markdown",
   "metadata": {},
   "source": [
    "### Llamadas a funciones"
   ]
  },
  {
   "cell_type": "markdown",
   "metadata": {},
   "source": [
    "A continuación usaremos funciones definidas en la biblioteca math. Para esto primero debemos importar la biblioteca utilizando *import math*"
   ]
  },
  {
   "cell_type": "code",
   "execution_count": null,
   "metadata": {},
   "outputs": [],
   "source": [
    "import math #Aqui se importa la biblioteca math, Más sobre esta biblioteca en https://docs.python.org/3/library/math.html\n",
    "\n",
    "a = math.factorial(5) #Se utiliza la función factorial definida dentro de la biblioteca math.\n",
    "b = math.sqrt(4)        #Se utiliza la función sqrt definida dentro de la biblioteca math.\n",
    "c = math.ceil(4.12)     #Se utiliza la función ceil definida dentro de la biblioteca math.\n",
    "\n",
    "print(\"Factorial de 5 =\", a)\n",
    "print(\"La raíz cuadrada de 4 =\", b)\n",
    "print(\"El techo de 4.12 =\", c)"
   ]
  },
  {
   "cell_type": "markdown",
   "metadata": {},
   "source": [
    "<span style=\"color:magenta\">__Pruébalo__:</span>  Indica para que se utilizan las siguientes funciones:\n",
    "- floor(x)\n",
    "- fmod(x)\n",
    "- pow(x)\n",
    "- atan(x)"
   ]
  },
  {
   "cell_type": "code",
   "execution_count": null,
   "metadata": {},
   "outputs": [],
   "source": [
    "x = 7.2\n",
    "#Usa las funciones de la biblioteca math floor, fmod, pow y atan y encuentra para que se utilizan."
   ]
  },
  {
   "cell_type": "markdown",
   "metadata": {},
   "source": [
    "### Listas\n",
    "Las listas es una estructura de datps en Python que nos permite tener una colección ordenada de elementos, es decir, nos permite almacenar secuencias de *items* en una lista.\n",
    "\n",
    "Los *items* deben definirse dentro de corchetes. Una vez definida una lista, es posible agregar, eliminar y buscar *items* en la lista."
   ]
  },
  {
   "cell_type": "code",
   "execution_count": null,
   "metadata": {},
   "outputs": [],
   "source": [
    "#Ejemplo de una lista\n",
    "l = [1,2,3,4,5]\n",
    "print(l)"
   ]
  },
  {
   "cell_type": "code",
   "execution_count": null,
   "metadata": {},
   "outputs": [],
   "source": [
    "#Ejemplo de una lista con números y caracteres\n",
    "l2 = [5,8,\"a\"]\n",
    "print(l2)"
   ]
  },
  {
   "cell_type": "markdown",
   "metadata": {},
   "source": [
    "Para acceder a los elementos de la lista, se utiliza un índice. El primer índice de la lista es el 0. "
   ]
  },
  {
   "cell_type": "code",
   "execution_count": null,
   "metadata": {},
   "outputs": [],
   "source": [
    "#Para acceder a un elemento\n",
    "print(l[0])"
   ]
  },
  {
   "cell_type": "markdown",
   "metadata": {},
   "source": [
    "Se pueden acceder a varios elementos de una lista al mismo tiempo. "
   ]
  },
  {
   "cell_type": "code",
   "execution_count": null,
   "metadata": {},
   "outputs": [],
   "source": [
    "print(l2[0:2])  #En este caso se accede desde el elemento 0 hasta el 2 (sin incluir el 2)"
   ]
  },
  {
   "cell_type": "code",
   "execution_count": null,
   "metadata": {},
   "outputs": [],
   "source": [
    "listaCompras = [\"manzanas\",\"mango\",\"zanahorias\",\"platano\"]\n",
    "print(listaCompras[1:3])   #Se accede desde el índice 1 hasta el 3 (sin incluir el 3)"
   ]
  },
  {
   "cell_type": "markdown",
   "metadata": {},
   "source": [
    "Las estructura de datos *listas* permiten otras operaciones "
   ]
  },
  {
   "cell_type": "code",
   "execution_count": null,
   "metadata": {},
   "outputs": [],
   "source": [
    "listaCompras.append(\"jugo\")   #Agregar elementos\n",
    "print(listaCompras)"
   ]
  },
  {
   "cell_type": "code",
   "execution_count": null,
   "metadata": {},
   "outputs": [],
   "source": [
    "listaCompras.sort() #Ordenar elementos\n",
    "print(listaCompras)"
   ]
  },
  {
   "cell_type": "markdown",
   "metadata": {},
   "source": [
    "Aunque las listas son útiles en varias aplicaciones. No proveen la ventaja de poder realizar operaciones matemáticas.  Por ejemplo, si se quisiera obtener la raíz cuadrada de todos los elementos de la lista Python regresa un __error__. Por este motivo se utiliza la biblioteca *numpy*."
   ]
  },
  {
   "cell_type": "code",
   "execution_count": null,
   "metadata": {},
   "outputs": [],
   "source": [
    "a = [1,2,3]\n",
    "c = math.sqrt(a)\n",
    "print(a)"
   ]
  },
  {
   "cell_type": "markdown",
   "metadata": {},
   "source": [
    "## Numpy\n",
    "A continuación usaremos la biblioteca numpy y realizaremos operaciones matemáticas con los arreglos y matrices que definamos."
   ]
  },
  {
   "cell_type": "code",
   "execution_count": null,
   "metadata": {},
   "outputs": [],
   "source": [
    "import numpy as np   #Se importa la biblioteca numpy como np, así para llamar sus funciones solo escribimos np en vez de numpy.\n",
    "a = np.array([1,2,3,4])   #Se declara un arreglo\n",
    "print(a)\n",
    "b = np.sqrt(a)            #Se obtiene la raíz cuadrada para cada elemento del arreglo a\n",
    "print(b)"
   ]
  },
  {
   "cell_type": "markdown",
   "metadata": {},
   "source": [
    "El arreglo a = np.array([1,2,3,4])  --> [1 2 3 4]   es un arreglo de *rank* 1 ya que tiene solo un eje. Ese eje tiene una longitud de 4 elementos.\n",
    "\n",
    "En el ejemplo a continuación, el arreglo tiene un *rank* 2 (es bidimensional). El primer eje tiene una longitud de 2 y el segundo eje tiene una longitud de 3.  Es un arreglo de forma (shape) 2x3."
   ]
  },
  {
   "cell_type": "code",
   "execution_count": null,
   "metadata": {},
   "outputs": [],
   "source": [
    "a = np.array([[1.0, 0.0, 0.01],[1.1, 0, 2]])\n",
    "print(a)"
   ]
  },
  {
   "cell_type": "code",
   "execution_count": null,
   "metadata": {},
   "outputs": [],
   "source": [
    "#Para acceder a la forma del array se utiliza la función shape\n",
    "print(a.shape)"
   ]
  },
  {
   "cell_type": "markdown",
   "metadata": {},
   "source": [
    "Existen funciones que crean arreglos especiales. Por ejemplo *zeros* que crea arreglos con 0's o *ones* que crea arreglos con 1's."
   ]
  },
  {
   "cell_type": "code",
   "execution_count": null,
   "metadata": {},
   "outputs": [],
   "source": [
    "a = np.zeros([2,3])\n",
    "print(a)\n",
    "b = np.ones([2,4,6])\n",
    "print(b)"
   ]
  },
  {
   "cell_type": "markdown",
   "metadata": {},
   "source": [
    "Para acceder a elementos especificos de los arreglos se utilizan índices."
   ]
  },
  {
   "cell_type": "code",
   "execution_count": null,
   "metadata": {},
   "outputs": [],
   "source": [
    "a[1,1]=2\n",
    "print(a)"
   ]
  },
  {
   "cell_type": "code",
   "execution_count": null,
   "metadata": {},
   "outputs": [],
   "source": [
    "b[:,1:3,1:5] = 2\n",
    "print(b)"
   ]
  },
  {
   "cell_type": "markdown",
   "metadata": {},
   "source": [
    "<span style=\"color:magenta\">__Pruébalo__:</span> Crea una matriz aleatoria con shape (4,5) con Python e imprime la raíz cuadrada de todos los elementos. \n",
    "\n",
    "Puedes investigar la función random en https://het.as.utexas.edu/HET/Software/Numpy/reference/generated/numpy.random.rand.html\n",
    "\n",
    "Quizas te convenga usar np.sqrt en vez de math.sqrt"
   ]
  },
  {
   "cell_type": "code",
   "execution_count": null,
   "metadata": {},
   "outputs": [],
   "source": [
    "#Crea una matriz aleatoria con shape (4,5) con Python e imprime la raíz cuadrada de todos los elementos."
   ]
  },
  {
   "cell_type": "markdown",
   "metadata": {},
   "source": [
    "### Matplotlib\n",
    "La biblioteca Matplotlib nos permite producir figuras en 2D."
   ]
  },
  {
   "cell_type": "code",
   "execution_count": null,
   "metadata": {},
   "outputs": [],
   "source": [
    "import matplotlib.pyplot as plt\n",
    "from numpy import pi   # Se importa pi de numpy para usarlo directamente\n",
    "\n",
    "x = np.linspace(0,2*pi,100)         #La función linspace nos generará 100 números del 0 a 2*pi\n",
    "y = np.sin(x)\n",
    "plt.plot(x,y)\n",
    "plt.xlabel('x')\n",
    "plt.ylabel('y')\n",
    "plt.show()"
   ]
  },
  {
   "cell_type": "code",
   "execution_count": null,
   "metadata": {},
   "outputs": [],
   "source": []
  }
 ],
 "metadata": {
  "kernelspec": {
   "display_name": "Python 3",
   "language": "python",
   "name": "python3"
  },
  "language_info": {
   "codemirror_mode": {
    "name": "ipython",
    "version": 3
   },
   "file_extension": ".py",
   "mimetype": "text/x-python",
   "name": "python",
   "nbconvert_exporter": "python",
   "pygments_lexer": "ipython3",
   "version": "3.7.4"
  }
 },
 "nbformat": 4,
 "nbformat_minor": 2
}
