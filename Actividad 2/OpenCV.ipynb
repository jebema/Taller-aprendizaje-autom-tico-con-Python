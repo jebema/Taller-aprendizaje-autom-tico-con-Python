{
 "cells": [
  {
   "cell_type": "markdown",
   "metadata": {},
   "source": [
    "## OpenCV\n",
    "Curso: Aplicaciones del aprendizaje automático con Python<br>\n",
    "Actividad 2: Iniciando con OpenCV <br> <br>\n",
    "En esta actividad nos familiarizaremos con la biblioteca openCV.\n",
    "\n",
    "Objetivos:\n",
    "1. Leer iuna imagen\n",
    "2. Desplegar una imagen con matplotlib\n",
    "3. Aplicar procesamiento a una imagen.\n",
    "4. Guardar una imagen nueva.\n",
    "\n",
    "Dra. Jessica Beltrán Márquez <br>\n",
    "www.jessicabeltran.com.mx"
   ]
  },
  {
   "cell_type": "markdown",
   "metadata": {},
   "source": [
    "Lo primero que tenemos que hacer es importar las bibliotecas que vamos a necesitar.\n",
    "\n",
    "- cv2: Es la biblioteca openCv\n",
    "- numpy: Es una biblioteca que se utiliza para realizar operaciones numéricas.\n",
    "- matplotlib: Es una librería que se utiliza para graficar en jupyter."
   ]
  },
  {
   "cell_type": "code",
   "execution_count": null,
   "metadata": {},
   "outputs": [],
   "source": [
    "import cv2\n",
    "import numpy as np\n",
    "from matplotlib import pyplot as plt\n",
    "cv2.__version__"
   ]
  },
  {
   "cell_type": "markdown",
   "metadata": {},
   "source": [
    "Con cv2.__version__ podemos conocer la versión de openCV que estamos usando"
   ]
  },
  {
   "cell_type": "markdown",
   "metadata": {},
   "source": [
    "## Leer una imagen\n",
    "A continuacion leeremos una imagen usando la función *imread* dentro de openCV.\n",
    "\n",
    "La imagen *dog1* esta almacenada en la carpeta *images*.\n",
    "\n",
    "También vamos a mostrar cual es la forma de la imagen (*shape*) usando la función shape."
   ]
  },
  {
   "cell_type": "code",
   "execution_count": null,
   "metadata": {},
   "outputs": [],
   "source": [
    "img = cv2.imread('./images/dog1.jpg')\n",
    "imgShape = img.shape\n",
    "print(imgShape)"
   ]
  },
  {
   "cell_type": "markdown",
   "metadata": {},
   "source": [
    "## Desplegar una imagen\n",
    "Ahora vamos a desplegar la imagen utilizando la función *pyplot --> plt* contenidda en la biblioteca matplotlib.\n",
    "\n",
    "Nota: Matplotlib utiliza un esquema de colores distinto a RGB (usa BGR), por tal motivo utilizamos la linea img = img[:,:,::-1]. Puedes comentar esta linea usando \"#\" para ver lo que sucede.  "
   ]
  },
  {
   "cell_type": "code",
   "execution_count": null,
   "metadata": {
    "scrolled": true
   },
   "outputs": [],
   "source": [
    "img = img[:,:,::-1]   #Esto porque matplotlib utiliza BGR en vez de RGB\n",
    "plt.imshow(img)     \n",
    "plt.show()"
   ]
  },
  {
   "cell_type": "markdown",
   "metadata": {},
   "source": [
    "## Aplicar procesamiento a una imagen\n",
    "Lo siguiente que haremos es aplicar un filtro llamado filtro Canny. Este filtro requiere recibir la imagen original y 2 valores que corresponden a umbrales. Puedes conocer más de esta función en http://docs.opencv.org/trunk/da/d22/tutorial_py_canny.html\n",
    "\n",
    "También vamos a desplegar la imagen original y la imagen con el procesamiento usando la función subplot de matplotlib."
   ]
  },
  {
   "cell_type": "code",
   "execution_count": null,
   "metadata": {},
   "outputs": [],
   "source": [
    "edgesImg = cv2.Canny(img,100,200)  #Se aplica el filtro Canny con umbrales 100 y 200 y se almacena en edgesImg\n",
    "plt.subplot(121),plt.imshow(img,cmap = 'gray') #Se hace una subgráfica de la imagen original\n",
    "plt.title('Imagen original'), plt.xticks([]), plt.yticks([]) #Se establece el título de la imagen y se especifíca que no se ponga información en los ejes\n",
    "plt.subplot(122),plt.imshow(edgesImg,cmap = 'gray') #Se hace una subgráfica de la imagen filtrada con los bordes resultantes del filtro Canny\n",
    "plt.title('Imagen filtrada con los bordes'), plt.xticks([]), plt.yticks([]) #Se establece el título de la imagen y se especifíca que no se ponga información en los ejes\n",
    "\n",
    "plt.show()"
   ]
  },
  {
   "cell_type": "markdown",
   "metadata": {},
   "source": [
    "## Guardar una imagen\n",
    "Lo siguiente que haremos será guardar una nueva imagen en la carpeta *images*. Guardaremos la imagen procesada *edgesImg*."
   ]
  },
  {
   "cell_type": "code",
   "execution_count": null,
   "metadata": {
    "scrolled": true
   },
   "outputs": [],
   "source": [
    "cv2.imwrite('./images/dogEdges.jpg',edgesImg)  #Se especifica la ruta y nombre de la imagen. "
   ]
  },
  {
   "cell_type": "markdown",
   "metadata": {},
   "source": [
    "Ahora puedes ver en tu carpeta *images* la nueva imagen almacenada."
   ]
  },
  {
   "cell_type": "markdown",
   "metadata": {},
   "source": [
    "<span style=\"color:magenta\">__Pruébalo__:</span> Utiliza el filtro CornerHarris https://docs.opencv.org/2.4/modules/imgproc/doc/feature_detection.html?highlight=cornerharris en vez de Canny.\n",
    "\n",
    "Se requiere convertir la imagen a grises. Puedes probar con *cv2.cvtColor* antes de usar CornerHarris. \n",
    "\n",
    "Si usas los parámetros 3,3,0.01 tendrás una imagen como ésta:\n",
    "\n",
    "<img src=\"./images/cornerHarris.png\">"
   ]
  },
  {
   "cell_type": "code",
   "execution_count": null,
   "metadata": {},
   "outputs": [],
   "source": [
    "#Utiliza el filtro CornerHarris https://docs.opencv.org/2.4/modules/imgproc/doc/feature_detection.html?highlight=cornerharris en vez de Canny."
   ]
  },
  {
   "cell_type": "markdown",
   "metadata": {},
   "source": [
    "## Más cosas con openCv\n",
    "Lo siguiente que haremos es sumar la imagen *dog1* con una nueva imagen *dog2*. Para esto leemos la imagen y revisamos si la forma de ambas imágenes es la misma. Si no es la misma forma, entonces modificamos la forma usando la función *resize*."
   ]
  },
  {
   "cell_type": "code",
   "execution_count": null,
   "metadata": {},
   "outputs": [],
   "source": [
    "img2 = cv2.imread('./images/dog2.jpg')  #Se lee la imagen\n",
    "img2Shape = img2.shape                   #Se obtiene su forma\n",
    "print(\"Forma de la imagen original= \",img2Shape)  #Se imprime su forma\n",
    "img2 = img2[:,:,::-1]   #Esto porque matplotlib utiliza BGR en vez de RGB\n",
    "plt.imshow(img2)     #Se grafica \n",
    "plt.show()\n",
    "\n",
    "img2Resized = cv2.resize(img2, (400, 400)) #Se modifica a 400,400 ya que es la forma de la imagen dog1\n",
    "img2ResizedShape = img2Resized.shape\n",
    "print(\"Forma de la imagen despues del resize = \",img2ResizedShape)\n",
    "plt.imshow(img2Resized)     \n",
    "plt.show()"
   ]
  },
  {
   "cell_type": "markdown",
   "metadata": {},
   "source": [
    "Lo siguiente que hacemos es sumar ambas imágenes y posteriormete desplegarlas."
   ]
  },
  {
   "cell_type": "code",
   "execution_count": null,
   "metadata": {
    "scrolled": true
   },
   "outputs": [],
   "source": [
    "#imagenMezclada = cv2.add(img,img2Resized)\n",
    "imagenMezclada = cv2.addWeighted(img,0.7,img2Resized,0.3,0)\n",
    "plt.imshow(imagenMezclada)     \n",
    "plt.show()"
   ]
  },
  {
   "cell_type": "markdown",
   "metadata": {},
   "source": [
    "Observa que pasa si descomentas la linea *imagenMezclada = cv2.addWeighted(img,0.7,img2Resized,0.3,0)*  y comentas la linea *imagenMezclada = cv2.add(img,img2Resized)*. \n",
    "\n",
    "Para más información sobre que sucede puedes leer aquí http://docs.opencv.org/3.0-beta/doc/py_tutorials/py_core/py_image_arithmetics/py_image_arithmetics.html#image-arithmetics"
   ]
  },
  {
   "cell_type": "code",
   "execution_count": null,
   "metadata": {},
   "outputs": [],
   "source": []
  }
 ],
 "metadata": {
  "kernelspec": {
   "display_name": "Python 3",
   "language": "python",
   "name": "python3"
  },
  "language_info": {
   "codemirror_mode": {
    "name": "ipython",
    "version": 3
   },
   "file_extension": ".py",
   "mimetype": "text/x-python",
   "name": "python",
   "nbconvert_exporter": "python",
   "pygments_lexer": "ipython3",
   "version": "3.7.4"
  }
 },
 "nbformat": 4,
 "nbformat_minor": 2
}
