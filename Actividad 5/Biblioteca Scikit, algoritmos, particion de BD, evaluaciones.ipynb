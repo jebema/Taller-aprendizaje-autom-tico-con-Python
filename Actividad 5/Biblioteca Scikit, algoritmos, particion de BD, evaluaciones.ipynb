{
 "cells": [
  {
   "cell_type": "markdown",
   "metadata": {},
   "source": [
    "# Biblioteca Scikit, algoritmos, particion de BD, evaluaciones\n",
    "Curso: Aplicaciones del aprendizaje automático usando Python <br>\n",
    "Actividad 5: Biblioteca Scikit, algoritmos, particion de BD, evaluaciones<br> <br>\n",
    "\n",
    "\n",
    "En esta actividad se utiliza la biblioteca libre para machine learning Scikit. Se utiliza la base de datos iris que contiene información de tres tipos de flores distintas. Se hace una partición de la base de datos en datos de entrenamiento, prueba, validación cruzada y se utilizan métricas para probar la eficiancia de los algoritmos.\n",
    "\n",
    "\n",
    "Parte de este código fue obtenido de Gaël Varoquaux y Jaques Grobler con licencia BSD 3 clause\n",
    "\n",
    "Objetivos:\n",
    "1. Trabajar con la biblioteca Scikit\n",
    "2. Leer y describir la base de datos iris\n",
    "3. Graficar los elementos de la base de datos\n",
    "4. Entrenar un modelo de clasificación con regresión logistica\n",
    "5. Hacer predicciones con el modelo de regresión logística\n",
    "6. Partición de la base de datos\n",
    "7. Uso de la máquina de soporte vectorial\n",
    "8. Usar validación cruzada\n",
    "9. Cambiar métrica para evaluación\n",
    "\n",
    "Dra. Jessica Beltrán Márquez <br>\n",
    "www.jessicabeltran.net"
   ]
  },
  {
   "cell_type": "markdown",
   "metadata": {},
   "source": [
    "## Importar Scikit y otras bibliotecas"
   ]
  },
  {
   "cell_type": "code",
   "execution_count": null,
   "metadata": {},
   "outputs": [],
   "source": [
    "import numpy as np\n",
    "import matplotlib.pyplot as plt\n",
    "from sklearn import linear_model   #Importar el modelo de clasificación que se va a utilizar\n",
    "from sklearn.linear_model import LogisticRegression\n",
    "from sklearn.datasets import load_iris  #Importar la función para cargar la base de datos"
   ]
  },
  {
   "cell_type": "markdown",
   "metadata": {},
   "source": [
    "## Cargar y entender base de datos\n",
    "A continuación se carga la base de datos iris la cual es ampliamente utilizada de forma didáctica para el aprendizaje del tema de machine learning.\n",
    "\n",
    "Esta base de datos cuenta con información de tres distintos tipos de flores las cuales se muestran a continuación. <br>\n",
    "<img src=\"./irises.png\"> <br>\n",
    "\n",
    "Las 3 clases de flores son: ['setosa', 'versicolor', 'virginica']. <br>\n",
    "Incluye 50 ejemplos por clase, con un total de 150 por las 3 clases. <br>\n",
    "Se contiene la información de 4 características(atributos) de tipo real positivos> [sepal length, sepal width, length, petal width] . <br> "
   ]
  },
  {
   "cell_type": "code",
   "execution_count": null,
   "metadata": {},
   "outputs": [],
   "source": [
    "# Cargar la base de datos iris\n",
    "iris = load_iris()\n",
    "\n",
    "print(\"--------------Etiquetas---------------\")\n",
    "print(list(iris.target))\n",
    "print(\"--------------Nombre de las clases--------------\")\n",
    "print(iris.target_names)\n",
    "print(\"--------------Nombre de las características--------------\")\n",
    "print(iris.feature_names)\n",
    "print(\"--------------Datos--------------\")\n",
    "print(iris.data)\n",
    "print(\"--------------Descripción completa de los datos--------------\")\n",
    "print(iris.DESCR)"
   ]
  },
  {
   "cell_type": "markdown",
   "metadata": {},
   "source": [
    "## Graficación de los datos\n",
    "A continación se despliegan los datos usando una gráfica tipo *scatter* <br>\n",
    "\n",
    "Aunque la dimensión de los datos es de 4, la gráfica scatter es de dos dimensiones en el plano, por lo tanto solo se grafica una dimensión contra otra. Se pueden cambiar las dimensiones que se grafican modificando los renglones 2 y 3."
   ]
  },
  {
   "cell_type": "code",
   "execution_count": null,
   "metadata": {},
   "outputs": [],
   "source": [
    "# Los índices de las características que se grafican\n",
    "x_axis_index = 0  \n",
    "y_axis_index = 1\n",
    "\n",
    "# Esta función va a etiquetar la base de datos con los nombres correctos\n",
    "formatter = plt.FuncFormatter(lambda i, *args: iris.target_names[int(i)])\n",
    "\n",
    "#Graficación\n",
    "plt.figure(figsize=(5, 4))\n",
    "plt.scatter(iris.data[:, x_axis_index], iris.data[:, y_axis_index], c=iris.target)\n",
    "plt.colorbar(ticks=[0, 1, 2], format=formatter)\n",
    "plt.xlabel(iris.feature_names[x_axis_index])\n",
    "plt.ylabel(iris.feature_names[y_axis_index])\n",
    "\n",
    "plt.tight_layout()\n",
    "plt.show()"
   ]
  },
  {
   "cell_type": "markdown",
   "metadata": {},
   "source": [
    "<span style=\"color:magenta\">__Pruébalo__:</span> Modifica el código para desplegar las siguientes gráficas.\n",
    "\n",
    "<table><tr><td><img src=\"./images/img1.png\"></td><td><img src=\"./images/img2.png\"></td><td><img src=\"./images/img3.png\"></td></tr></table>\n"
   ]
  },
  {
   "cell_type": "markdown",
   "metadata": {},
   "source": [
    "## Preparación de los datos\n",
    "En este ejemplo se utilizaran únicamente las primeras 2 características para hacer la clasificación."
   ]
  },
  {
   "cell_type": "code",
   "execution_count": null,
   "metadata": {},
   "outputs": [],
   "source": [
    "X = iris.data[:, :2]  # Se toman las dos primeras características\n",
    "Y = iris.target\n",
    "print(\"Solo las dos primeras características\")\n",
    "print(X)\n",
    "print(\"Las etiquetas\")\n",
    "print(Y)"
   ]
  },
  {
   "cell_type": "markdown",
   "metadata": {},
   "source": [
    "## Uso de algoritmo de aprendizaje\n",
    "En esta parte se define que algoritmo de aprendizaje se va a utilizar. En este caso es el algoritmo regresión logistica. <br>\n",
    "\n",
    "A continuación se le pasan las características y las etiquetas para que realice el ajuste de parámetros para generar un modelo."
   ]
  },
  {
   "cell_type": "code",
   "execution_count": null,
   "metadata": {},
   "outputs": [],
   "source": [
    "# Se define el algoritmo de aprendizaje a utilizar\n",
    "logreg = LogisticRegression(C=1e5,solver='lbfgs', multi_class='auto')\n",
    "\n",
    "# Se pasan los datos para que se ajuste el modelo\n",
    "logreg.fit(X, Y)"
   ]
  },
  {
   "cell_type": "markdown",
   "metadata": {},
   "source": [
    "## Predicciones\n",
    "Se obtienen la predicciones con el modelo entrenado"
   ]
  },
  {
   "cell_type": "code",
   "execution_count": null,
   "metadata": {},
   "outputs": [],
   "source": [
    "print(\"Clasificando todo los elementos de X\")\n",
    "predictions = logreg.predict(X)\n",
    "print(predictions)\n",
    "print(\"---------------------------\")\n",
    "\n",
    "\n",
    "from sklearn.metrics import confusion_matrix\n",
    "cm = confusion_matrix(Y, predictions)\n",
    "print(\"Matriz de confusión\")\n",
    "print(cm)\n",
    "print(\"---------------------------\")\n",
    "\n",
    "print(\"Clasificando un solo elemento\")\n",
    "singleElement = 60\n",
    "print(\"Caracteristicas =\",X[singleElement,:])\n",
    "print(\"Clase verdadera =\",Y[singleElement])\n",
    "value = X[singleElement,:]\n",
    "Z = logreg.predict(value.reshape(1,-1))\n",
    "print(\"Clase predicha = \", Z)\n",
    "#poner precision"
   ]
  },
  {
   "cell_type": "markdown",
   "metadata": {},
   "source": [
    "## Grafica de un plano con las predicciones del modelo"
   ]
  },
  {
   "cell_type": "code",
   "execution_count": null,
   "metadata": {},
   "outputs": [],
   "source": [
    "h = .02  # tamaño de paso en la partición del plano\n",
    "# Graficar la frontera de desicion.\n",
    "#Se definen los limites del plano\n",
    "x_min, x_max = X[:, 0].min() - .5, X[:, 0].max() + .5\n",
    "y_min, y_max = X[:, 1].min() - .5, X[:, 1].max() + .5\n",
    "xx, yy = np.meshgrid(np.arange(x_min, x_max, h), np.arange(y_min, y_max, h))\n",
    "#Se hace la predicción en cada punto del plano\n",
    "Z = logreg.predict(np.c_[xx.ravel(), yy.ravel()])\n",
    "\n",
    "Z = Z.reshape(xx.shape)\n",
    "plt.figure(1, figsize=(4, 3))\n",
    "plt.pcolormesh(xx, yy, Z, cmap=plt.cm.Paired)\n",
    "\n",
    "# Graficar también los puntos de los datos\n",
    "plt.scatter(X[:, 0], X[:, 1], c=Y, edgecolors='k', cmap=plt.cm.Paired)\n",
    "plt.xlabel('Sepal length')\n",
    "plt.ylabel('Sepal width')\n",
    "\n",
    "plt.xlim(xx.min(), xx.max())\n",
    "plt.ylim(yy.min(), yy.max())\n",
    "plt.xticks(())\n",
    "plt.yticks(())\n",
    "plt.show()\n"
   ]
  },
  {
   "cell_type": "code",
   "execution_count": null,
   "metadata": {},
   "outputs": [],
   "source": [
    "#http://www.scipy-lectures.org/packages/scikit-learn/\n",
    "#http://www.scipy-lectures.org/packages/scikit-learn/auto_examples/plot_iris_scatter.html\n",
    "#http://scikit-learn.org/stable/auto_examples/linear_model/plot_iris_logistic.html\n",
    "#http://scikit-learn.org/stable/modules/generated/sklearn.datasets.load_iris.html#sklearn.datasets.load_iris"
   ]
  },
  {
   "cell_type": "markdown",
   "metadata": {},
   "source": [
    "## Ejemplo de partición del conjunto de datos\n",
    "En el ejemplo anterior se realizaron las predicciones sobre los mismos elementos de la base de datos. (Esto no debe de hacerse en la práctica) <br>\n",
    "A continuación se harán particiones de la base de datos y se entrenará solo sobre los datos de entrenamiento y se probará con los datos de prueba. <br> <br>\n",
    "\n",
    "En este ejemplo se utilizará otro algoritmo de aprendizaje llamado máquina de soporte de vectores (SVM). Se utilizará todo el vector de características. <br>\n",
    "\n",
    "Primero se importan las bibliotecas necesarias. "
   ]
  },
  {
   "cell_type": "code",
   "execution_count": null,
   "metadata": {},
   "outputs": [],
   "source": [
    "import numpy as np\n",
    "from sklearn.model_selection import train_test_split\n",
    "from sklearn import datasets\n",
    "from sklearn import svm"
   ]
  },
  {
   "cell_type": "markdown",
   "metadata": {},
   "source": [
    "Se carga la base de datos.\n",
    "\n",
    "NOTA: Ya estaba cargada en el ejemplo anterior pero se hace para darle continuidad a este ejemplo."
   ]
  },
  {
   "cell_type": "code",
   "execution_count": null,
   "metadata": {},
   "outputs": [],
   "source": [
    "iris = datasets.load_iris()\n",
    "iris.data.shape, iris.target.shape"
   ]
  },
  {
   "cell_type": "markdown",
   "metadata": {},
   "source": [
    "## Partición del conjunto de datos\n",
    "Se utiliza la función train_test_split de la biblioteca scikit para hacer la partición. <br>\n",
    "¿Qué pasa si cambias el valor de test_size?"
   ]
  },
  {
   "cell_type": "code",
   "execution_count": null,
   "metadata": {},
   "outputs": [],
   "source": [
    "X_train, X_test, y_train, y_test = train_test_split(\n",
    "...     iris.data, iris.target, test_size=0.3, random_state=0)\n",
    "print('Forma del conjunto de datos de entrenamiento',X_train.shape, y_train.shape)\n",
    "print('Forma del conjunto de datos de prueba',X_test.shape, y_test.shape)"
   ]
  },
  {
   "cell_type": "markdown",
   "metadata": {},
   "source": [
    "## Uso de la máquina de soporte de vectores\n",
    "Se define el algoritmo de aprendizaje a utilizar y se pasan los datos para ajustar el modelo. <br>\n",
    "Se pasan los datos de prueba para solicitar los resultados, en este caso la exactitud media."
   ]
  },
  {
   "cell_type": "code",
   "execution_count": null,
   "metadata": {},
   "outputs": [],
   "source": [
    "algoritmo = svm.SVC(kernel='linear', C=1).fit(X_train, y_train)\n",
    "algoritmo.score(X_test, y_test) #Returns the mean accuracy on the given test data and labels."
   ]
  },
  {
   "cell_type": "markdown",
   "metadata": {},
   "source": [
    "## Validación cruzada\n",
    "Ahora se harán evaluaciones haciendo validación cruzada. Para esto se requiere importar cross_val_score"
   ]
  },
  {
   "cell_type": "code",
   "execution_count": null,
   "metadata": {},
   "outputs": [],
   "source": [
    "from sklearn.model_selection import cross_val_score\n",
    "algoritmo = svm.SVC(kernel='linear', C=1)\n",
    "scores = cross_val_score(algoritmo, iris.data, iris.target, cv=5)\n",
    "scores  "
   ]
  },
  {
   "cell_type": "code",
   "execution_count": null,
   "metadata": {},
   "outputs": [],
   "source": [
    "# La exactitud media y el intervalo con el 95% de confianza estimado esta dado por:\n",
    "print(\"Accuracy: %0.2f (+/- %0.2f)\" % (scores.mean(), scores.std() * 2))"
   ]
  },
  {
   "cell_type": "markdown",
   "metadata": {},
   "source": [
    "## Cambiar métrica"
   ]
  },
  {
   "cell_type": "code",
   "execution_count": null,
   "metadata": {},
   "outputs": [],
   "source": [
    "#Se puede cambiar la métrica utilizada, por ejemplo, podemos usar la medida F1\n",
    "from sklearn import metrics\n",
    "scores = cross_val_score(algoritmo, iris.data, iris.target, cv=5, scoring='f1_macro')\n",
    "scores   \n"
   ]
  },
  {
   "cell_type": "markdown",
   "metadata": {},
   "source": [
    "http://scikit-learn.org/stable/modules/generated/sklearn.model_selection.train_test_split.html <br>\n",
    "http://scikit-learn.org/stable/modules/cross_validation.html"
   ]
  },
  {
   "cell_type": "markdown",
   "metadata": {},
   "source": [
    "<span style=\"color:magenta\">__Pruébalo__:</span> Utiliza el algoritmo de clasificación K Vecinos más cercanos con 3 vecinos (https://scikit-learn.org/stable/modules/generated/sklearn.neighbors.KNeighborsClassifier.html).\n",
    "Predice a que clase pertenece el siguiente vector de características: [5 , 3 , 4 ,0.5 ].\n",
    "Nota: Deberá indicar que es clase 1. Prueba con otros valores.\n"
   ]
  },
  {
   "cell_type": "code",
   "execution_count": null,
   "metadata": {},
   "outputs": [],
   "source": [
    "#Utiliza el algoritmo de clasificación K Vecinos más cercanos con 3 vecinos  para predecir la clase del vector [5 , 3 , 4 ,0.5 ]"
   ]
  },
  {
   "cell_type": "code",
   "execution_count": null,
   "metadata": {},
   "outputs": [],
   "source": []
  }
 ],
 "metadata": {
  "kernelspec": {
   "display_name": "Python 3",
   "language": "python",
   "name": "python3"
  },
  "language_info": {
   "codemirror_mode": {
    "name": "ipython",
    "version": 3
   },
   "file_extension": ".py",
   "mimetype": "text/x-python",
   "name": "python",
   "nbconvert_exporter": "python",
   "pygments_lexer": "ipython3",
   "version": "3.7.4"
  }
 },
 "nbformat": 4,
 "nbformat_minor": 2
}
